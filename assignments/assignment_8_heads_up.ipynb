{
 "cells": [
  {
   "cell_type": "code",
   "execution_count": 1,
   "metadata": {},
   "outputs": [],
   "source": [
    "import csv\n",
    "\n",
    "with open('assignment_8_data.csv') as f:\n",
    "    data = [{k: v for k, v in row.items()} for row in csv.DictReader(f, skipinitialspace=True)]"
   ]
  },
  {
   "cell_type": "code",
   "execution_count": 9,
   "metadata": {},
   "outputs": [
    {
     "name": "stdout",
     "output_type": "stream",
     "text": [
      "{'department': 'tech_support', 'type': 'service', 'direct_costs': '19000', 'workstations': '7', 'employees': '4', 'square_feet': '1000'}\n",
      "{'department': 'payroll', 'type': 'service', 'direct_costs': '22000', 'workstations': '2', 'employees': '2', 'square_feet': '600'}\n",
      "{'department': 'housekeeping', 'type': 'service', 'direct_costs': '16000', 'workstations': '1', 'employees': '4', 'square_feet': '400'}\n",
      "{'department': 'roasting', 'type': 'production', 'direct_costs': '65000', 'workstations': '12', 'employees': '40', 'square_feet': '3500'}\n",
      "{'department': 'packaging', 'type': 'production', 'direct_costs': '44000', 'workstations': '8', 'employees': '60', 'square_feet': '6500'}\n"
     ]
    }
   ],
   "source": [
    "for d in data:\n",
    "    print(d)"
   ]
  },
  {
   "cell_type": "code",
   "execution_count": 8,
   "metadata": {},
   "outputs": [
    {
     "name": "stdout",
     "output_type": "stream",
     "text": [
      "{'total': 23, 'payroll': 2, 'housekeeping': 1, 'roasting': 12, 'packaging': 8}\n"
     ]
    }
   ],
   "source": [
    "# get workstations (but not for tech support) \n",
    "# dictionary to keep track of cost driver usage of tech support (workstations)\n",
    "workstations = {'total': 0}\n",
    "\n",
    "# one dictionary at the time\n",
    "for d in data:\n",
    "    # the department\n",
    "    department = d[\"department\"]\n",
    "    # ignore the row if the department is tech support; otherwise make an entry in the workstations dictionary\n",
    "    if d[\"department\"] != \"tech_support\":\n",
    "        # this will make an entry for each department (payroll, housekeeping, roasting, pacakging)\n",
    "        workstations[department] = int(d['workstations'])\n",
    "        # this will add the workstations to the total\n",
    "        workstations['total'] += int(d['workstations'])\n",
    "\n",
    "# print what we have\n",
    "print(workstations)\n",
    "\n",
    "# next steps:\n",
    "# - divide all numbers in the workstation dictionary by 'total', this will make the cost driver usage a %\n",
    "# - do something similar for employees (payroll) and square_feet (housekeeping)\n",
    "# - use the workstations, employees, and square_feet dictionaries to make the vectors used \n",
    "#       i.e., from the example, replace the [1, 1] [2,4] etc with data from the dictionaries\n",
    "#       a = np.array([[1, 1],[2,4]])\n",
    "#       b = np.array([35, 94])\n",
    "#\n",
    "#       print(np.linalg.solve(a,b))\n"
   ]
  },
  {
   "cell_type": "markdown",
   "metadata": {},
   "source": [
    "### Check your output\n",
    "\n",
    "You can check your calculations with this page [wolframalpha](https://www.wolframalpha.com/input/?i=x%3D19000+%2B+4%2F108+y+%2B1000+%2F+11600+z%2C+y%3D22000%2B2%2F23+x+%2B+600%2F11600+z%2C+z%3D16000%2B1%2F23+x+%2B+4%2F108y)\n",
    "\n",
    "In the results tab, click 'approximate' for normal numbers."
   ]
  }
 ],
 "metadata": {
  "kernelspec": {
   "display_name": "Python 3",
   "language": "python",
   "name": "python3"
  },
  "language_info": {
   "codemirror_mode": {
    "name": "ipython",
    "version": 3
   },
   "file_extension": ".py",
   "mimetype": "text/x-python",
   "name": "python",
   "nbconvert_exporter": "python",
   "pygments_lexer": "ipython3",
   "version": "3.7.3"
  }
 },
 "nbformat": 4,
 "nbformat_minor": 2
}
