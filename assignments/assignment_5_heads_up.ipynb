{
 "cells": [
  {
   "cell_type": "markdown",
   "metadata": {},
   "source": [
    "## Simplified example (start with this and extend it)"
   ]
  },
  {
   "cell_type": "code",
   "execution_count": 1,
   "metadata": {},
   "outputs": [],
   "source": [
    "# keeping track of the rounds in a game\n",
    "# game can be a list of dictionaries\n",
    "# each dictionary describes a round\n",
    "game = []"
   ]
  },
  {
   "cell_type": "code",
   "execution_count": 2,
   "metadata": {},
   "outputs": [],
   "source": [
    "# somehow keep track of the players' armies\n",
    "# for example, a list with 2 numbers\n",
    "troops = [ 10, 10] # element 0 instructor troops, element 1 your troops"
   ]
  },
  {
   "cell_type": "code",
   "execution_count": 3,
   "metadata": {},
   "outputs": [],
   "source": [
    "# simplified setting: let's say both players draw one random number and the highest one wins\n",
    "# let's say the game ends if one player reaches zero troops\n",
    "# you can use a while loop here, with a function that returns True if the game hasn't ended\n",
    "\n",
    "# function that determines if the game is still ongoing (True) or done (False)\n",
    "# t is the variable passed in (list of 2 numbers)\n",
    "def gameContinues( t ):\n",
    "    if t[0] == 0 or t[1] == 0:\n",
    "        return False \n",
    "    return True\n",
    "\n",
    "import random\n",
    "def randomNumber():\n",
    "    return (random.randint(1,6))\n",
    "\n",
    "# determines the winner: only if x > y then player 0 wins\n",
    "def whoWins( x, y):\n",
    "    if ( x > y ):\n",
    "        return 0\n",
    "    return 1    "
   ]
  },
  {
   "cell_type": "code",
   "execution_count": 4,
   "metadata": {},
   "outputs": [],
   "source": [
    "# while loop as long as the game hasn't finished\n",
    "while gameContinues( troops ):\n",
    "    # get random numbers, x for instructor, y for yourself\n",
    "    x, y = randomNumber(), randomNumber()\n",
    "    # did the instructor win?\n",
    "    if whoWins(x,y) == 0:\n",
    "        # instructor wins (0 is instructor)\n",
    "        troops[1] -= 1 # reduce the troops by one\n",
    "        wins = 'Instructor'    \n",
    "    else: \n",
    "        # you win\n",
    "        troops[0] -= 1\n",
    "        wins = 'You'\n",
    "    # put these info in a dictonary (note curly brackets {}), and add it to the list\n",
    "    game.append( { 'winner': wins, 'troops': [ troops[0], troops[1] ], 'numbers': [ x , y  ]    }  )"
   ]
  },
  {
   "cell_type": "code",
   "execution_count": 5,
   "metadata": {},
   "outputs": [
    {
     "data": {
      "text/plain": [
       "[{'winner': 'Instructor', 'troops': [10, 9], 'numbers': [6, 4]},\n",
       " {'winner': 'You', 'troops': [9, 9], 'numbers': [2, 3]},\n",
       " {'winner': 'You', 'troops': [8, 9], 'numbers': [4, 5]},\n",
       " {'winner': 'Instructor', 'troops': [8, 8], 'numbers': [3, 1]},\n",
       " {'winner': 'Instructor', 'troops': [8, 7], 'numbers': [4, 2]},\n",
       " {'winner': 'You', 'troops': [7, 7], 'numbers': [4, 6]},\n",
       " {'winner': 'You', 'troops': [6, 7], 'numbers': [2, 3]},\n",
       " {'winner': 'You', 'troops': [5, 7], 'numbers': [5, 6]},\n",
       " {'winner': 'Instructor', 'troops': [5, 6], 'numbers': [5, 1]},\n",
       " {'winner': 'You', 'troops': [4, 6], 'numbers': [4, 6]},\n",
       " {'winner': 'You', 'troops': [3, 6], 'numbers': [3, 3]},\n",
       " {'winner': 'You', 'troops': [2, 6], 'numbers': [4, 4]},\n",
       " {'winner': 'You', 'troops': [1, 6], 'numbers': [2, 5]},\n",
       " {'winner': 'Instructor', 'troops': [1, 5], 'numbers': [5, 2]},\n",
       " {'winner': 'You', 'troops': [0, 5], 'numbers': [2, 2]}]"
      ]
     },
     "execution_count": 5,
     "metadata": {},
     "output_type": "execute_result"
    }
   ],
   "source": [
    "game"
   ]
  },
  {
   "cell_type": "code",
   "execution_count": 6,
   "metadata": {},
   "outputs": [
    {
     "name": "stdout",
     "output_type": "stream",
     "text": [
      "And the winner is.....  You\n"
     ]
    }
   ],
   "source": [
    "print('And the winner is..... ', wins)"
   ]
  }
 ],
 "metadata": {
  "kernelspec": {
   "display_name": "Python 3",
   "language": "python",
   "name": "python3"
  },
  "language_info": {
   "codemirror_mode": {
    "name": "ipython",
    "version": 3
   },
   "file_extension": ".py",
   "mimetype": "text/x-python",
   "name": "python",
   "nbconvert_exporter": "python",
   "pygments_lexer": "ipython3",
   "version": "3.7.3"
  }
 },
 "nbformat": 4,
 "nbformat_minor": 2
}
